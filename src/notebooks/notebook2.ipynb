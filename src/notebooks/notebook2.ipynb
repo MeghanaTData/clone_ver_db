{
 "cells": [
  {
   "cell_type": "code",
   "execution_count": 1,
   "metadata": {},
   "outputs": [
    {
     "ename": "NameError",
     "evalue": "name 'dbutils' is not defined",
     "output_type": "error",
     "traceback": [
      "\u001b[31m---------------------------------------------------------------------------\u001b[39m",
      "\u001b[31mNameError\u001b[39m                                 Traceback (most recent call last)",
      "\u001b[36mCell\u001b[39m\u001b[36m \u001b[39m\u001b[32mIn[1]\u001b[39m\u001b[32m, line 1\u001b[39m\n\u001b[32m----> \u001b[39m\u001b[32m1\u001b[39m \u001b[43mdbutils\u001b[49m.widgets.text(\u001b[33m\"\u001b[39m\u001b[33mvalue1\u001b[39m\u001b[33m\"\u001b[39m, \u001b[33m\"\u001b[39m\u001b[33m0\u001b[39m\u001b[33m\"\u001b[39m, \u001b[33m\"\u001b[39m\u001b[33mEnter first integer\u001b[39m\u001b[33m\"\u001b[39m)\n\u001b[32m      2\u001b[39m dbutils.widgets.text(\u001b[33m\"\u001b[39m\u001b[33mvalue2\u001b[39m\u001b[33m\"\u001b[39m, \u001b[33m\"\u001b[39m\u001b[33m0\u001b[39m\u001b[33m\"\u001b[39m, \u001b[33m\"\u001b[39m\u001b[33mEnter second integer\u001b[39m\u001b[33m\"\u001b[39m)\n\u001b[32m      3\u001b[39m dbutils.widgets.text(\u001b[33m\"\u001b[39m\u001b[33menv\u001b[39m\u001b[33m\"\u001b[39m, \u001b[33m\"\u001b[39m\u001b[33mdev\u001b[39m\u001b[33m\"\u001b[39m, \u001b[33m\"\u001b[39m\u001b[33mEnter environment\u001b[39m\u001b[33m\"\u001b[39m)\n",
      "\u001b[31mNameError\u001b[39m: name 'dbutils' is not defined"
     ]
    }
   ],
   "source": [
    "dbutils.widgets.text(\"value1\", \"0\", \"Enter first integer\")\n",
    "dbutils.widgets.text(\"value2\", \"0\", \"Enter second integer\")\n",
    "dbutils.widgets.text(\"env\", \"dev\", \"Enter environment\")\n",
    "\n",
    "value1 = int(dbutils.widgets.get(\"value1\"))\n",
    "value2 = int(dbutils.widgets.get(\"value2\"))\n",
    "env = dbutils.widgets.get(\"env\")"
   ]
  },
  {
   "cell_type": "code",
   "execution_count": null,
   "metadata": {},
   "outputs": [],
   "source": [
    "repo_path = '/'.join(\n",
    "    dbutils.notebook.entry_point.getDbutils().notebook().getContext().notebookPath().get()\n",
    "    .split('/')[:-2]\n",
    ")\n",
    "workspace_path = f\"/Workspace/{repo_path.strip('/')}\"\n",
    "import sys\n",
    "print(f\"Repo path: {workspace_path}\")  # Verify the path\n",
    "sys.path.append(workspace_path)\n",
    "\n",
    "from logics.core.lif import subtract"
   ]
  },
  {
   "cell_type": "code",
   "execution_count": null,
   "metadata": {},
   "outputs": [],
   "source": [
    "import json\n",
    "\n",
    "with open(f\"{workspace_path}/config/{env}.json\", \"r\") as file:\n",
    "    config = json.load(file)\n",
    "\n",
    "json_value = config.get(\"storage_account\") \n",
    "\n",
    "print(json_value)"
   ]
  },
  {
   "cell_type": "code",
   "execution_count": null,
   "metadata": {},
   "outputs": [],
   "source": [
    "\n",
    "print(subtract(value1, value2))"
   ]
  }
 ],
 "metadata": {
  "kernelspec": {
   "display_name": "Python 3",
   "language": "python",
   "name": "python3"
  },
  "language_info": {
   "codemirror_mode": {
    "name": "ipython",
    "version": 3
   },
   "file_extension": ".py",
   "mimetype": "text/x-python",
   "name": "python",
   "nbconvert_exporter": "python",
   "pygments_lexer": "ipython3",
   "version": "3.13.1"
  }
 },
 "nbformat": 4,
 "nbformat_minor": 2
}
